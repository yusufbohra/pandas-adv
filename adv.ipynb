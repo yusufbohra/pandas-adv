{
 "cells": [
  {
   "cell_type": "code",
   "execution_count": 6,
   "id": "696cd14d-e841-4243-b277-7278ca6005d8",
   "metadata": {},
   "outputs": [
    {
     "name": "stdout",
     "output_type": "stream",
     "text": [
      "   Name  Age\n",
      "0  John   25\n",
      "1  Jane   30\n",
      "2  Mike   35\n"
     ]
    }
   ],
   "source": [
    "#que1\n",
    "import pandas as pd\n",
    "\n",
    "# Create DataFrame\n",
    "data = {'Name': ['John', 'Jane', 'Mike'],\n",
    "        'Age': [25, 30, 35]}\n",
    "df = pd.DataFrame(data)\n",
    "\n",
    "# View the first few rows\n",
    "print(df.head())\n"
   ]
  },
  {
   "cell_type": "code",
   "execution_count": 7,
   "id": "66451f53-d0cb-4568-938a-64a53a22dbe5",
   "metadata": {},
   "outputs": [
    {
     "name": "stdout",
     "output_type": "stream",
     "text": [
      "Name\n",
      "Jane    61000.0\n",
      "John    50000.0\n",
      "Mike    56500.0\n",
      "Name: Salary, dtype: float64\n"
     ]
    }
   ],
   "source": [
    "import pandas as pd\n",
    "\n",
    "# Create DataFrame\n",
    "data = {'Name': ['John', 'Jane', 'Mike', 'Jane', 'Mike'],\n",
    "        'Age': [25, 30, 35, 28, 32],\n",
    "        'Salary': [50000, 60000, 55000, 62000, 58000]}\n",
    "df = pd.DataFrame(data)\n",
    "\n",
    "# Group by 'Name' and calculate the mean salary\n",
    "grouped = df.groupby('Name')['Salary'].mean()\n",
    "\n",
    "# Display the result\n",
    "print(grouped)\n"
   ]
  },
  {
   "cell_type": "code",
   "execution_count": 8,
   "id": "245c591d-4c21-4913-88aa-38916259c1f2",
   "metadata": {},
   "outputs": [
    {
     "name": "stdout",
     "output_type": "stream",
     "text": [
      "     A    B\n",
      "0  1.0  5.0\n",
      "1  0.0  6.0\n",
      "2  3.0  0.0\n",
      "3  0.0  8.0\n"
     ]
    }
   ],
   "source": [
    "import pandas as pd\n",
    "import numpy as np\n",
    "\n",
    "# Create DataFrame with missing values\n",
    "data = {'A': [1, np.nan, 3, np.nan],\n",
    "        'B': [5, 6, np.nan, 8]}\n",
    "df = pd.DataFrame(data)\n",
    "\n",
    "# Fill missing values with 0\n",
    "filled_df = df.fillna(0)\n",
    "\n",
    "# Display the filled DataFrame\n",
    "print(filled_df)\n",
    "\n"
   ]
  },
  {
   "cell_type": "code",
   "execution_count": 9,
   "id": "82b1c209-7261-465e-a2dd-59f90f1f8c2d",
   "metadata": {},
   "outputs": [
    {
     "name": "stdout",
     "output_type": "stream",
     "text": [
      "   Name  Age  Salary\n",
      "0  John   25   50000\n",
      "1  Jane   30   60000\n",
      "2  Mike   35   55000\n"
     ]
    }
   ],
   "source": [
    "import pandas as pd\n",
    "\n",
    "# Create DataFrame\n",
    "data = {'Name': ['John', 'Jane', 'Mike'],\n",
    "        'Age': [25, 30, 35],\n",
    "        'Salary': [50000, 60000, 55000]}\n",
    "df = pd.DataFrame(data)\n",
    "\n",
    "# Sort the DataFrame by 'Age' in ascending order\n",
    "sorted_df = df.sort_values('Age')\n",
    "\n",
    "# Display the sorted DataFrame\n",
    "print(sorted_df)\n"
   ]
  },
  {
   "cell_type": "code",
   "execution_count": 10,
   "id": "7ec2c0c8-31f8-41a8-9b29-5614d8c893a3",
   "metadata": {},
   "outputs": [
    {
     "name": "stdout",
     "output_type": "stream",
     "text": [
      "<class 'pandas.core.frame.DataFrame'>\n",
      "RangeIndex: 3 entries, 0 to 2\n",
      "Data columns (total 2 columns):\n",
      " #   Column  Non-Null Count  Dtype \n",
      "---  ------  --------------  ----- \n",
      " 0   Name    3 non-null      object\n",
      " 1   Age     3 non-null      int64 \n",
      "dtypes: int64(1), object(1)\n",
      "memory usage: 176.0+ bytes\n"
     ]
    }
   ],
   "source": [
    "import pandas as pd\n",
    "\n",
    "# Create DataFrame\n",
    "data = {'Name': ['John', 'Jane', 'Mike'],\n",
    "        'Age': [25, 30, 35]}\n",
    "df = pd.DataFrame(data)\n",
    "\n",
    "# Get information about the DataFrame\n",
    "df.info()\n"
   ]
  },
  {
   "cell_type": "code",
   "execution_count": 11,
   "id": "41d2bff0-beed-4537-99af-6bd36cdf8ca9",
   "metadata": {},
   "outputs": [
    {
     "name": "stdout",
     "output_type": "stream",
     "text": [
      "   Name  Age\n",
      "1  John   25\n",
      "3  Jane   30\n",
      "5  Mike   35\n"
     ]
    }
   ],
   "source": [
    "import pandas as pd\n",
    "\n",
    "def reindex_dataframe(df):\n",
    "    # Reset index with new index starting from 1 and incrementing by 2\n",
    "    df.reset_index(drop=True, inplace=True)\n",
    "    df.index = df.index * 2 + 1\n",
    "    return df\n",
    "\n",
    "# Example usage:\n",
    "# Assuming you have a DataFrame 'df' with columns 'A', 'B', and 'C'\n",
    "\n",
    "# Re-index the DataFrame\n",
    "new_df = reindex_dataframe(df)\n",
    "\n",
    "# Print the re-indexed DataFrame\n",
    "print(new_df)\n"
   ]
  },
  {
   "cell_type": "code",
   "execution_count": 19,
   "id": "d4ebf207-2800-4b7f-a69f-37559e4790cf",
   "metadata": {},
   "outputs": [
    {
     "data": {
      "text/plain": [
       "'import pandas as pd\\n\\ndef calculate_sum(df):\\n    # Get the first three values in the \\'Values\\' column\\n    values = df[10,20,30,40,50,60].iloc[:3]\\n\\n    # Calculate the sum\\n    total_sum = values.sum()\\n\\n    # Print the sum\\n    print(\"Sum of the first three values:\", total_sum)\\n\\n# Example usage:\\n# Assuming you have a DataFrame \\'df\\' with a column named \\'Values\\' containing [10, 20, 30, 40, 50]\\n\\n# Call the function to calculate the sum\\ncalculate_sum(df)\\n'"
      ]
     },
     "execution_count": 19,
     "metadata": {},
     "output_type": "execute_result"
    }
   ],
   "source": [
    "#que 3\n",
    "\"\"\"import pandas as pd\n",
    "\n",
    "def calculate_sum(df):\n",
    "    # Get the first three values in the 'Values' column\n",
    "    values = df[10,20,30,40,50,60].iloc[:3]\n",
    "\n",
    "    # Calculate the sum\n",
    "    total_sum = values.sum()\n",
    "\n",
    "    # Print the sum\n",
    "    print(\"Sum of the first three values:\", total_sum)\n",
    "\n",
    "# Example usage:\n",
    "# Assuming you have a DataFrame 'df' with a column named 'Values' containing [10, 20, 30, 40, 50]\n",
    "\n",
    "# Call the function to calculate the sum\n",
    "calculate_sum(df)\n",
    "\"\"\"\n"
   ]
  },
  {
   "cell_type": "code",
   "execution_count": 18,
   "id": "dc363fc8-6076-4d59-ac27-83e2382aa5bb",
   "metadata": {},
   "outputs": [
    {
     "data": {
      "text/plain": [
       "\"import pandas as pd\\n\\ndef count_words(df):\\n    # Create a new column 'Word_Count' with the number of words in each row of 'Text'\\n    df['Word_Count'] = df['Text'].apply(lambda x: len(str(x).split()))\\n\\n    # Return the modified DataFrame\\n    return df\\n\\ndf = count_words(df)\\n\\n# Print the modified DataFrame\\nprint(df)\\n\""
      ]
     },
     "execution_count": 18,
     "metadata": {},
     "output_type": "execute_result"
    }
   ],
   "source": [
    "#que4\n",
    "\"\"\"import pandas as pd\n",
    "\n",
    "def count_words(df):\n",
    "    # Create a new column 'Word_Count' with the number of words in each row of 'Text'\n",
    "    df['Word_Count'] = df['Text'].apply(lambda x: len(str(x).split()))\n",
    "\n",
    "    # Return the modified DataFrame\n",
    "    return df\n",
    "\n",
    "df = count_words(df)\n",
    "\n",
    "# Print the modified DataFrame\n",
    "print(df)\n",
    "\"\"\""
   ]
  },
  {
   "cell_type": "code",
   "execution_count": 20,
   "id": "5687f7c0-1506-4423-8a32-3c0e977a930e",
   "metadata": {},
   "outputs": [
    {
     "name": "stdout",
     "output_type": "stream",
     "text": [
      "6\n"
     ]
    }
   ],
   "source": [
    "#que5\n",
    "import pandas as pd\n",
    "\n",
    "# Create DataFrame\n",
    "data = {'A': [1, 2, 3],\n",
    "        'B': [4, 5, 6]}\n",
    "df = pd.DataFrame(data)\n",
    "\n",
    "# Get the size of the DataFrame\n",
    "df_size = df.size\n",
    "\n",
    "# Print the size\n",
    "print(df_size)\n"
   ]
  },
  {
   "cell_type": "code",
   "execution_count": 23,
   "id": "1c193960-bd80-4bd9-98f3-3d4926d63a76",
   "metadata": {},
   "outputs": [
    {
     "data": {
      "text/plain": [
       "'To read an Excel file in pandas, you can use the read_excel() function.'"
      ]
     },
     "execution_count": 23,
     "metadata": {},
     "output_type": "execute_result"
    }
   ],
   "source": [
    "#que 6\n",
    "\"\"\"To read an Excel file in pandas, you can use the read_excel() function.\"\"\""
   ]
  },
  {
   "cell_type": "code",
   "execution_count": 25,
   "id": "07f4c443-b2d0-443f-9ede-fe3f22be2986",
   "metadata": {},
   "outputs": [
    {
     "data": {
      "text/plain": [
       "\"import pandas as pd\\n\\ndef extract_username(df):\\n    # Extract the username from the email address\\n    df['john'] = df['john.doe@example.com'].str.split('@').str[0]\\n\\n    # Return the modified DataFrame\\n    return df\\n\\ndf = extract_username(df)\\n\\n# Print the modified DataFrame\\nprint(df)\""
      ]
     },
     "execution_count": 25,
     "metadata": {},
     "output_type": "execute_result"
    }
   ],
   "source": [
    "#que 7\n",
    "\"\"\"import pandas as pd\n",
    "\n",
    "def extract_username(df):\n",
    "    # Extract the username from the email address\n",
    "    df['john'] = df['john.doe@example.com'].str.split('@').str[0]\n",
    "\n",
    "    # Return the modified DataFrame\n",
    "    return df\n",
    "\n",
    "df = extract_username(df)\n",
    "\n",
    "# Print the modified DataFrame\n",
    "print(df)\"\"\"\n"
   ]
  },
  {
   "cell_type": "code",
   "execution_count": 26,
   "id": "f59796fd-8abd-4d20-a008-4271771a2ca1",
   "metadata": {},
   "outputs": [
    {
     "name": "stdout",
     "output_type": "stream",
     "text": [
      "Empty DataFrame\n",
      "Columns: [A, B]\n",
      "Index: []\n"
     ]
    }
   ],
   "source": [
    "#que 8\n",
    "import pandas as pd\n",
    "\n",
    "def filter_dataframe(df):\n",
    "    # Filter rows based on conditions\n",
    "    filtered_df = df[(df['A'] > 5) & (df['B'] < 10)]\n",
    "\n",
    "    # Return the filtered DataFrame\n",
    "    return filtered_df\n",
    "\n",
    "# Example usage:\n",
    "# Assuming you have a DataFrame 'df' with columns 'A', 'B', and 'C'\n",
    "\n",
    "# Call the function to filter the DataFrame\n",
    "filtered_df = filter_dataframe(df)\n",
    "\n",
    "# Print the filtered DataFrame\n",
    "print(filtered_df)\n"
   ]
  },
  {
   "cell_type": "code",
   "execution_count": 29,
   "id": "7586bddf-c55b-428c-a0c8-0a73389071b0",
   "metadata": {},
   "outputs": [
    {
     "data": {
      "text/plain": [
       "'import pandas as pd\\n\\ndef calculate_statistics(df):\\n    # Calculate mean\\n    mean_value = df[6,4,3,6,6].mean()\\n\\n    # Calculate median\\n    median_value = df[1,2,3,4,5,].median()\\n\\n    # Calculate standard deviation\\n    std_value = df[9,8,7,4,3].std()\\n\\n    # Return the calculated statistics\\n    return mean_value, median_value, std_value\\n\\n# Example usage:\\n# Assuming you have a DataFrame \\'df\\' with a column named \\'Values\\'\\n\\n# Call the function to calculate statistics\\nmean, median, std = calculate_statistics(df)\\n\\n# Print the calculated statistics\\nprint(\"Mean:\", mean)\\nprint(\"Median:\", median)\\nprint(\"Standard Deviation:\", std)'"
      ]
     },
     "execution_count": 29,
     "metadata": {},
     "output_type": "execute_result"
    }
   ],
   "source": [
    "#que 9\n",
    "\"\"\"import pandas as pd\n",
    "\n",
    "def calculate_statistics(df):\n",
    "    # Calculate mean\n",
    "    mean_value = df[6,4,3,6,6].mean()\n",
    "\n",
    "    # Calculate median\n",
    "    median_value = df[1,2,3,4,5,].median()\n",
    "\n",
    "    # Calculate standard deviation\n",
    "    std_value = df[9,8,7,4,3].std()\n",
    "\n",
    "    # Return the calculated statistics\n",
    "    return mean_value, median_value, std_value\n",
    "\n",
    "# Example usage:\n",
    "# Assuming you have a DataFrame 'df' with a column named 'Values'\n",
    "\n",
    "# Call the function to calculate statistics\n",
    "mean, median, std = calculate_statistics(df)\n",
    "\n",
    "# Print the calculated statistics\n",
    "print(\"Mean:\", mean)\n",
    "print(\"Median:\", median)\n",
    "print(\"Standard Deviation:\", std)\"\"\"\n"
   ]
  },
  {
   "cell_type": "code",
   "execution_count": 31,
   "id": "8dc26e82-4a92-4124-9b98-21a5aa1faf5a",
   "metadata": {},
   "outputs": [
    {
     "data": {
      "text/plain": [
       "\"import pandas as pd\\n\\ndef calculate_moving_average(df):\\n    # Sort the DataFrame by 'Date' in ascending order\\n    df.sort_values('Date', inplace=True)\\n\\n    # Calculate the moving average using rolling window of size 7\\n    df['MovingAverage'] = df['Sales'].rolling(window=7, min_periods=1).mean()\\n\\n    # Return the modified DataFrame\\n    return df\\n\\n# Example usage:\\n# Assuming you have a DataFrame 'df' with columns 'Sales' and 'Date'\\n\\n# Call the function to add 'MovingAverage' column\\ndf = calculate_moving_average(df)\\n\\n# Print the modified DataFrame\\nprint(df)\\n\""
      ]
     },
     "execution_count": 31,
     "metadata": {},
     "output_type": "execute_result"
    }
   ],
   "source": [
    "#que10\n",
    "\"\"\"import pandas as pd\n",
    "\n",
    "def calculate_moving_average(df):\n",
    "    # Sort the DataFrame by 'Date' in ascending order\n",
    "    df.sort_values('Date', inplace=True)\n",
    "\n",
    "    # Calculate the moving average using rolling window of size 7\n",
    "    df['MovingAverage'] = df['Sales'].rolling(window=7, min_periods=1).mean()\n",
    "\n",
    "    # Return the modified DataFrame\n",
    "    return df\n",
    "\n",
    "# Example usage:\n",
    "# Assuming you have a DataFrame 'df' with columns 'Sales' and 'Date'\n",
    "\n",
    "# Call the function to add 'MovingAverage' column\n",
    "df = calculate_moving_average(df)\n",
    "\n",
    "# Print the modified DataFrame\n",
    "print(df)\n",
    "\"\"\"\n"
   ]
  },
  {
   "cell_type": "code",
   "execution_count": 33,
   "id": "3f488401-50f7-46f3-8ace-2b2a27dea756",
   "metadata": {},
   "outputs": [
    {
     "data": {
      "text/plain": [
       "\"import pandas as pd\\n\\ndef add_weekday_column(df):\\n    # Convert 'Date' column to datetime if it's not already\\n    df['Date'] = pd.to_datetime(df['Date'])\\n\\n    # Create 'Weekday' column using the weekday name\\n    df['Weekday'] = df['Date'].dt.weekday_name\\n\\n    # Return the modified DataFrame\\n    return df\\n\\n# Example usage:\\n# Assuming you have a DataFrame 'df' with a column named 'Date'\\n\\n# Call the function to add 'Weekday' column\\ndf = add_weekday_column(df)\\n\\n# Print the modified DataFrame\\nprint(df)\\n\""
      ]
     },
     "execution_count": 33,
     "metadata": {},
     "output_type": "execute_result"
    }
   ],
   "source": [
    "#que 11\n",
    "\"\"\"import pandas as pd\n",
    "\n",
    "def add_weekday_column(df):\n",
    "    # Convert 'Date' column to datetime if it's not already\n",
    "    df['Date'] = pd.to_datetime(df['Date'])\n",
    "\n",
    "    # Create 'Weekday' column using the weekday name\n",
    "    df['Weekday'] = df['Date'].dt.weekday_name\n",
    "\n",
    "    # Return the modified DataFrame\n",
    "    return df\n",
    "\n",
    "# Example usage:\n",
    "# Assuming you have a DataFrame 'df' with a column named 'Date'\n",
    "\n",
    "# Call the function to add 'Weekday' column\n",
    "df = add_weekday_column(df)\n",
    "\n",
    "# Print the modified DataFrame\n",
    "print(df)\n",
    "\"\"\""
   ]
  },
  {
   "cell_type": "code",
   "execution_count": 35,
   "id": "0a4305ae-f864-4a32-b858-5cb33129eb0d",
   "metadata": {},
   "outputs": [
    {
     "data": {
      "text/plain": [
       "\"import pandas as pd\\n\\ndef filter_by_date(df):\\n    # Convert 'Date' column to datetime if it's not already\\n    df['Date'] = pd.to_datetime(df['Date'])\\n\\n    # Filter rows based on date range\\n    filtered_df = df[(df['Date'] >= '2023-01-01') & (df['Date'] <= '2023-01-31')]\\n\\n    # Return the filtered DataFrame\\n    return filtered_df\\n\\n# Example usage:\\n# Assuming you have a DataFrame 'df' with a column named 'Date'\\n\\n# Call the function to filter the DataFrame by date\\nfiltered_df = filter_by_date(df)\\n\\n# Print the filtered DataFrame\\nprint(filtered_df)\""
      ]
     },
     "execution_count": 35,
     "metadata": {},
     "output_type": "execute_result"
    }
   ],
   "source": [
    "#que 12\n",
    "\"\"\"import pandas as pd\n",
    "\n",
    "def filter_by_date(df):\n",
    "    # Convert 'Date' column to datetime if it's not already\n",
    "    df['Date'] = pd.to_datetime(df['Date'])\n",
    "\n",
    "    # Filter rows based on date range\n",
    "    filtered_df = df[(df['Date'] >= '2023-01-01') & (df['Date'] <= '2023-01-31')]\n",
    "\n",
    "    # Return the filtered DataFrame\n",
    "    return filtered_df\n",
    "\n",
    "# Example usage:\n",
    "# Assuming you have a DataFrame 'df' with a column named 'Date'\n",
    "\n",
    "# Call the function to filter the DataFrame by date\n",
    "filtered_df = filter_by_date(df)\n",
    "\n",
    "# Print the filtered DataFrame\n",
    "print(filtered_df)\"\"\"\n"
   ]
  },
  {
   "cell_type": "code",
   "execution_count": null,
   "id": "19c761fb-a148-4207-b5be-383d4ead78e2",
   "metadata": {},
   "outputs": [],
   "source": []
  }
 ],
 "metadata": {
  "kernelspec": {
   "display_name": "Python 3 (ipykernel)",
   "language": "python",
   "name": "python3"
  },
  "language_info": {
   "codemirror_mode": {
    "name": "ipython",
    "version": 3
   },
   "file_extension": ".py",
   "mimetype": "text/x-python",
   "name": "python",
   "nbconvert_exporter": "python",
   "pygments_lexer": "ipython3",
   "version": "3.10.8"
  }
 },
 "nbformat": 4,
 "nbformat_minor": 5
}
